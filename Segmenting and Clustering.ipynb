{
    "nbformat_minor": 1, 
    "cells": [
        {
            "execution_count": 2, 
            "cell_type": "code", 
            "metadata": {}, 
            "outputs": [], 
            "source": "from bs4 import BeautifulSoup\nimport requests\nimport pandas as pd\nimport numpy as np"
        }, 
        {
            "execution_count": 128, 
            "cell_type": "code", 
            "metadata": {}, 
            "outputs": [], 
            "source": "# Web scraping using BeautifulSoup\nwiki_link = 'https://en.wikipedia.org/wiki/List_of_postal_codes_of_Canada:_M'\nsource = requests.get(wiki_link)\npage_content = BeautifulSoup(source.content, \"html.parser\")\ntable = page_content.find_all('table')[0] \ndf = pd.read_html(str(table))[0]\n\n# Renaming columns\ndf.columns = ('Postcode','Borough','Neighbourhood')\ndf = df[1:]\n\n# Removing where Borough = 'Not assigned'\ndf = df[df['Borough'] != 'Not assigned']\ndf.reset_index(drop=True,inplace=True)\n\n# # Combining neighbourhoods for similar postcode\ndf = df.groupby(by=['Postcode','Borough']).apply(lambda x: \"%s\" % ', '.join(x['Neighbourhood']))\n# .to_frame()\n# df.columns('Postcode','Borough','Neighbourhoods')"
        }, 
        {
            "execution_count": 129, 
            "cell_type": "code", 
            "metadata": {}, 
            "outputs": [
                {
                    "execution_count": 129, 
                    "metadata": {}, 
                    "data": {
                        "text/plain": "Postcode  Borough         \nM1B       Scarborough                                            Rouge, Malvern\nM1C       Scarborough                    Highland Creek, Rouge Hill, Port Union\nM1E       Scarborough                         Guildwood, Morningside, West Hill\nM1G       Scarborough                                                    Woburn\nM1H       Scarborough                                                 Cedarbrae\nM1J       Scarborough                                       Scarborough Village\nM1K       Scarborough               East Birchmount Park, Ionview, Kennedy Park\nM1L       Scarborough                           Clairlea, Golden Mile, Oakridge\nM1M       Scarborough           Cliffcrest, Cliffside, Scarborough Village West\nM1N       Scarborough                               Birch Cliff, Cliffside West\nM1P       Scarborough         Dorset Park, Scarborough Town Centre, Wexford ...\nM1R       Scarborough                                         Maryvale, Wexford\nM1S       Scarborough                                                 Agincourt\nM1T       Scarborough                   Clarks Corners, Sullivan, Tam O'Shanter\nM1V       Scarborough         Agincourt North, L'Amoreaux East, Milliken, St...\nM1W       Scarborough                             L'Amoreaux West, Steeles West\nM1X       Scarborough                                               Upper Rouge\nM2H       North York                                          Hillcrest Village\nM2J       North York                               Fairview, Henry Farm, Oriole\nM2K       North York                                            Bayview Village\nM2L       North York                                   Silver Hills, York Mills\nM2M       North York                                    Newtonbrook, Willowdale\nM2N       North York                                           Willowdale South\nM2P       North York                                            York Mills West\nM2R       North York                                            Willowdale West\nM3A       North York                                                  Parkwoods\nM3B       North York                                            Don Mills North\nM3C       North York                           Flemingdon Park, Don Mills South\nM3H       North York            Bathurst Manor, Downsview North, Wilson Heights\nM3J       North York                            Northwood Park, York University\n                                                    ...                        \nM6C       York                                               Humewood-Cedarvale\nM6E       York                                              Caledonia-Fairbanks\nM6G       Downtown Toronto                                             Christie\nM6H       West Toronto                             Dovercourt Village, Dufferin\nM6J       West Toronto                                 Little Portugal, Trinity\nM6K       West Toronto             Brockton, Exhibition Place, Parkdale Village\nM6L       North York                   Maple Leaf Park, North Park, Upwood Park\nM6M       York                   Del Ray, Keelesdale, Mount Dennis, Silverthorn\nM6N       York                                    The Junction North, Runnymede\nM6P       West Toronto                            High Park, The Junction South\nM6R       West Toronto                                   Parkdale, Roncesvalles\nM6S       West Toronto                                       Runnymede, Swansea\nM7A       Queen's Park                                             Not assigned\nM7R       Mississauga                     Canada Post Gateway Processing Centre\nM7Y       East Toronto         Business reply mail Processing Centre969 Eastern\nM8V       Etobicoke                Humber Bay Shores, Mimico South, New Toronto\nM8W       Etobicoke                                      Alderwood, Long Branch\nM8X       Etobicoke               The Kingsway, Montgomery Road, Old Mill North\nM8Y       Etobicoke           Humber Bay, King's Mill Park, Kingsway Park So...\nM8Z       Etobicoke           Kingsway Park South West, Mimico NW, The Queen...\nM9A       Etobicoke                                            Islington Avenue\nM9B       Etobicoke           Cloverdale, Islington, Martin Grove, Princess ...\nM9C       Etobicoke           Bloordale Gardens, Eringate, Markland Wood, Ol...\nM9L       North York                                              Humber Summit\nM9M       North York                                           Emery, Humberlea\nM9N       York                                                           Weston\nM9P       Etobicoke                                                   Westmount\nM9R       Etobicoke           Kingsview Village, Martin Grove Gardens, Richv...\nM9V       Etobicoke           Albion Gardens, Beaumond Heights, Humbergate, ...\nM9W       Etobicoke                                                   Northwest\nLength: 103, dtype: object"
                    }, 
                    "output_type": "execute_result"
                }
            ], 
            "source": "list(df)\ndf"
        }, 
        {
            "execution_count": null, 
            "cell_type": "code", 
            "metadata": {}, 
            "outputs": [], 
            "source": ""
        }
    ], 
    "metadata": {
        "kernelspec": {
            "display_name": "Python 3.5", 
            "name": "python3", 
            "language": "python"
        }, 
        "language_info": {
            "mimetype": "text/x-python", 
            "nbconvert_exporter": "python", 
            "version": "3.5.5", 
            "name": "python", 
            "file_extension": ".py", 
            "pygments_lexer": "ipython3", 
            "codemirror_mode": {
                "version": 3, 
                "name": "ipython"
            }
        }
    }, 
    "nbformat": 4
}