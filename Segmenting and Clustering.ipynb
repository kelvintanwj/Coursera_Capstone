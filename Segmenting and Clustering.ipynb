{
    "nbformat_minor": 1, 
    "cells": [
        {
            "source": "## Peer-graded Assignment: Segmenting and Clustering Neighborhoods in Toronto\nAs part of the assignment in the '__IBM Data Science Professional Course__'.", 
            "cell_type": "markdown", 
            "metadata": {}
        }, 
        {
            "execution_count": 1, 
            "cell_type": "code", 
            "metadata": {}, 
            "outputs": [], 
            "source": "# Importing libraries\nfrom bs4 import BeautifulSoup\nimport requests\nimport pandas as pd\nimport numpy as np"
        }, 
        {
            "execution_count": 27, 
            "cell_type": "code", 
            "metadata": {}, 
            "outputs": [], 
            "source": "# Web scraping using BeautifulSoup\nwiki_link = 'https://en.wikipedia.org/wiki/List_of_postal_codes_of_Canada:_M'\nsource = requests.get(wiki_link)\npage_content = BeautifulSoup(source.content, \"html.parser\")\ntable = page_content.find_all('table')[0] \ndf = pd.read_html(str(table))[0]\n\n# Renaming columns\ndf.columns = ('Postcode','Borough','Neighbourhood')\ndf = df[1:]\n\n# Removing where Borough = 'Not assigned'\ndf = df[df['Borough'] != 'Not assigned']\ndf.reset_index(drop=True,inplace=True)\n\n# # Combining neighbourhoods for similar postcode\n# df = df.groupby(by=['Postcode','Borough'],as_index=False)['Neighbourhood'].apply(lambda x: \"%s\" % ', '.join(x['Neighbourhood'])).to_frame()\ndf = df.groupby(by=['Postcode','Borough'],as_index=False)['Neighbourhood'].apply(', '.join).reset_index()\ndf.columns = ['Postcode','Borough','Neighbourhoods']\n\n# Dropping unassigned neighbourhoods\ndf = df.where(df['Neighbourhoods']!='Not assigned').dropna()"
        }, 
        {
            "execution_count": 36, 
            "cell_type": "code", 
            "metadata": {}, 
            "outputs": [
                {
                    "execution_count": 36, 
                    "metadata": {}, 
                    "data": {
                        "text/plain": "(102, 3)"
                    }, 
                    "output_type": "execute_result"
                }
            ], 
            "source": "df.shape"
        }
    ], 
    "metadata": {
        "kernelspec": {
            "display_name": "Python 3.5", 
            "name": "python3", 
            "language": "python"
        }, 
        "language_info": {
            "mimetype": "text/x-python", 
            "nbconvert_exporter": "python", 
            "version": "3.5.5", 
            "name": "python", 
            "file_extension": ".py", 
            "pygments_lexer": "ipython3", 
            "codemirror_mode": {
                "version": 3, 
                "name": "ipython"
            }
        }
    }, 
    "nbformat": 4
}